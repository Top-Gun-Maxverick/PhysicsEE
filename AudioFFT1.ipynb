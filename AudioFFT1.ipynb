{
 "cells": [
  {
   "cell_type": "code",
   "execution_count": 1,
   "metadata": {},
   "outputs": [],
   "source": [
    "import numpy as np\n",
    "import pyaudio as pa\n",
    "import PySimpleGUI as sg"
   ]
  },
  {
   "cell_type": "code",
   "execution_count": 2,
   "metadata": {},
   "outputs": [],
   "source": [
    "# VARS CONSTS:\n",
    "_VARS = {'window': False,\n",
    "         'stream': False,\n",
    "         'audioData': np.array([])}\n",
    "\n",
    "# pysimpleGUI INIT:\n",
    "AppFont = 'Any 16'\n",
    "sg.theme('TealMono')\n",
    "CanvasSizeWH = 500\n",
    "\n",
    "layout = [[sg.Graph(canvas_size=(CanvasSizeWH, CanvasSizeWH),\n",
    "                    graph_bottom_left=(-16, -16),\n",
    "                    graph_top_right=(116, 116),\n",
    "                    background_color='#FFF9DE',\n",
    "                    key='graph')],\n",
    "          [sg.ProgressBar(2000, orientation='h',\n",
    "                          size=(20, 20), key='-PROG-')],\n",
    "          [sg.Button('Listen', font=AppFont),\n",
    "           sg.Button('Stop', font=AppFont, disabled=True),\n",
    "           sg.Button('Exit', font=AppFont)]]\n",
    "_VARS['window'] = sg.Window('Pyaudio Wave plot + FFT',\n",
    "                            layout, finalize=True)\n",
    "\n"
   ]
  },
  {
   "cell_type": "code",
   "execution_count": 3,
   "metadata": {},
   "outputs": [],
   "source": [
    "graph = _VARS['window']['graph']\n",
    "\n",
    "# INIT vars:\n",
    "CHUNK = 128  # Samples: 1024,  512, 256, 128\n",
    "RATE = 10000  # Equivalent to Human Hearing at 40 kHz\n",
    "INTERVAL = 1  # Sampling Interval in Seconds ie Interval to listen\n",
    "TIMEOUT = 10  # In ms for the event loop\n",
    "GAIN = 0.6\n",
    "pAud = pa.PyAudio()\n",
    "\n",
    "# FUNCTIONS:\n",
    "\n",
    "\n",
    "def drawAxis():\n",
    "    graph.DrawLine((0, 50), (100, 50))  # Y Axis\n",
    "    graph.DrawLine((0, 0), (0, 100))  # X Axis\n",
    "\n",
    "\n",
    "def drawTicks():\n",
    "\n",
    "    divisionsX = 10\n",
    "    multi = int(RATE/divisionsX)\n",
    "    offsetX = int(100/divisionsX)\n",
    "\n",
    "    divisionsY = 10\n",
    "    offsetY = int(100/divisionsY)\n",
    "\n",
    "    for x in range(0, divisionsX+1):\n",
    "        # print('x:', x)\n",
    "        graph.DrawLine((x*offsetX, -3), (x*offsetX, 3))\n",
    "        graph.DrawText(int((x*multi/1000)), (x*offsetX, -10), color='black')\n",
    "\n",
    "    for y in range(0, divisionsY+1):\n",
    "        graph.DrawLine((-3, y*offsetY), (3, y*offsetY))\n",
    "\n",
    "\n",
    "def drawAxesLabels():\n",
    "    graph.DrawText('kHz', (50, 10), color='black')\n",
    "    graph.DrawText('Freq. Level - Amplitude', (-5, 50),\n",
    "                   color='black', angle=90)\n",
    "\n",
    "\n",
    "def drawPlot():\n",
    "    # Divide horizontal axis space by data points :\n",
    "    barStep = 100/CHUNK\n",
    "    x_scaled = ((_VARS['audioData']/100)*GAIN)+50\n",
    "\n",
    "    for i, x in enumerate(x_scaled):\n",
    "        graph.draw_rectangle(top_left=(i*barStep, x),\n",
    "                             bottom_right=(i*barStep+barStep, 50),\n",
    "                             fill_color='lightblue')\n",
    "\n",
    "\n",
    "def drawFFT():\n",
    "    barStep = 100/(CHUNK/2)\n",
    "    fft_data = np.fft.rfft(_VARS['audioData'])\n",
    "    fft_data = np.absolute(fft_data)\n",
    "    fft_data = fft_data/6000\n",
    "\n",
    "    for i, x in enumerate(fft_data):\n",
    "        graph.draw_rectangle(top_left=(i*barStep, x),\n",
    "                             bottom_right=(i*barStep+barStep, 0),\n",
    "                             fill_color='#FF4646')\n",
    "\n",
    "# PYAUDIO STREAM :\n",
    "\n",
    "\n",
    "def stop():\n",
    "    if _VARS['stream']:\n",
    "        _VARS['stream'].stop_stream()\n",
    "        _VARS['stream'].close()\n",
    "        _VARS['window']['-PROG-'].update(0)\n",
    "        _VARS['window'].FindElement('Stop').Update(disabled=True)\n",
    "        _VARS['window'].FindElement('Listen').Update(disabled=False)\n",
    "\n",
    "\n",
    "def callback(in_data, frame_count, time_info, status):\n",
    "    _VARS['audioData'] = np.frombuffer(in_data, dtype=np.int16)\n",
    "    return (in_data, pa.paContinue)\n",
    "\n",
    "\n",
    "def listen():\n",
    "    _VARS['window'].FindElement('Stop').Update(disabled=False)\n",
    "    _VARS['window'].FindElement('Listen').Update(disabled=True)\n",
    "    _VARS['stream'] = pAud.open(format=pa.paInt16,\n",
    "                                channels=1,\n",
    "                                rate=RATE,\n",
    "                                input=True,\n",
    "                                frames_per_buffer=CHUNK,\n",
    "                                stream_callback=callback)\n",
    "    _VARS['stream'].start_stream()\n",
    "\n",
    "\n",
    "def updateUI():\n",
    "    # Uodate volumne meter\n",
    "    _VARS['window']['-PROG-'].update(np.amax(_VARS['audioData']))\n",
    "    # Redraw plot\n",
    "    graph.erase()\n",
    "    drawAxis()\n",
    "    drawTicks()\n",
    "    drawAxesLabels()\n",
    "    drawPlot()\n",
    "    drawFFT()\n"
   ]
  },
  {
   "cell_type": "code",
   "execution_count": 4,
   "metadata": {},
   "outputs": [],
   "source": [
    "drawAxis()\n",
    "drawTicks()\n",
    "drawAxesLabels()\n"
   ]
  },
  {
   "cell_type": "code",
   "execution_count": 5,
   "metadata": {},
   "outputs": [
    {
     "name": "stderr",
     "output_type": "stream",
     "text": [
      "/opt/anaconda3/lib/python3.9/site-packages/PySimpleGUI/PySimpleGUI.py:10379: UserWarning: Use of FindElement is not recommended.\n",
      "Either switch to the recommended window[key] format\n",
      "or the PEP8 compliant find_element\n",
      "  warnings.warn('Use of FindElement is not recommended.\\nEither switch to the recommended window[key] format\\nor the PEP8 compliant find_element',\n",
      "/opt/anaconda3/lib/python3.9/site-packages/PySimpleGUI/PySimpleGUI.py:10379: UserWarning: Use of FindElement is not recommended.\n",
      "Either switch to the recommended window[key] format\n",
      "or the PEP8 compliant find_element\n",
      "  warnings.warn('Use of FindElement is not recommended.\\nEither switch to the recommended window[key] format\\nor the PEP8 compliant find_element',\n"
     ]
    },
    {
     "name": "stdout",
     "output_type": "stream",
     "text": [
      "** Warning - FindElement should not be used to look up elements. window[key] or window.find_element are recommended. **\n",
      "** Warning - FindElement should not be used to look up elements. window[key] or window.find_element are recommended. **\n",
      "** Warning - FindElement should not be used to look up elements. window[key] or window.find_element are recommended. **\n",
      "** Warning - FindElement should not be used to look up elements. window[key] or window.find_element are recommended. **\n"
     ]
    },
    {
     "name": "stderr",
     "output_type": "stream",
     "text": [
      "/opt/anaconda3/lib/python3.9/site-packages/PySimpleGUI/PySimpleGUI.py:10379: UserWarning: Use of FindElement is not recommended.\n",
      "Either switch to the recommended window[key] format\n",
      "or the PEP8 compliant find_element\n",
      "  warnings.warn('Use of FindElement is not recommended.\\nEither switch to the recommended window[key] format\\nor the PEP8 compliant find_element',\n",
      "/opt/anaconda3/lib/python3.9/site-packages/PySimpleGUI/PySimpleGUI.py:10379: UserWarning: Use of FindElement is not recommended.\n",
      "Either switch to the recommended window[key] format\n",
      "or the PEP8 compliant find_element\n",
      "  warnings.warn('Use of FindElement is not recommended.\\nEither switch to the recommended window[key] format\\nor the PEP8 compliant find_element',\n"
     ]
    }
   ],
   "source": [
    "while True:\n",
    "    event, values = _VARS['window'].read(timeout=TIMEOUT)\n",
    "    if event == sg.WIN_CLOSED or event == 'Exit':\n",
    "        stop()\n",
    "        pAud.terminate()\n",
    "        break\n",
    "    if event == 'Listen':\n",
    "        listen()\n",
    "    if event == 'Stop':\n",
    "        stop()\n",
    "    elif _VARS['audioData'].size != 0:\n",
    "        updateUI()\n"
   ]
  },
  {
   "cell_type": "code",
   "execution_count": null,
   "metadata": {},
   "outputs": [],
   "source": []
  }
 ],
 "metadata": {
  "interpreter": {
   "hash": "885469b9160626f1b009104bd3aca20b91d0b37ffc8403a6cd51188d461b14e9"
  },
  "kernelspec": {
   "display_name": "Python 3.10.8 ('amongus')",
   "language": "python",
   "name": "python3"
  },
  "language_info": {
   "codemirror_mode": {
    "name": "ipython",
    "version": 3
   },
   "file_extension": ".py",
   "mimetype": "text/x-python",
   "name": "python",
   "nbconvert_exporter": "python",
   "pygments_lexer": "ipython3",
   "version": "3.9.15"
  },
  "orig_nbformat": 4
 },
 "nbformat": 4,
 "nbformat_minor": 2
}
